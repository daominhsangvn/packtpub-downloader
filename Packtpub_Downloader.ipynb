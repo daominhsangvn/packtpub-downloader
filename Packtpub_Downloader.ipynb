{
  "nbformat": 4,
  "nbformat_minor": 0,
  "metadata": {
    "colab": {
      "name": "Packtpub-NodeJS.ipynb",
      "provenance": [],
      "collapsed_sections": []
    },
    "kernelspec": {
      "name": "python3",
      "display_name": "Python 3"
    },
    "language_info": {
      "name": "python"
    }
  },
  "cells": [
    {
      "cell_type": "code",
      "metadata": {
        "id": "EO_1P-_igKe4",
        "cellView": "form"
      },
      "source": [
        "#@title Mount Google Drive\n",
        "\n",
        "from google.colab import drive\n",
        "drive.mount('/content/drive')"
      ],
      "execution_count": null,
      "outputs": []
    },
    {
      "cell_type": "code",
      "metadata": {
        "id": "GhdH0Kz6fqcv",
        "cellView": "form"
      },
      "source": [
        "#@title Install Dependencies\n",
        "\n",
        "!apt-get update\n",
        "!apt install chromium-chromedriver\n",
        "!cp /usr/lib/chromium-browser/chromedriver /usr/bin\n",
        "import sys\n",
        "sys.path.insert(0,'/usr/lib/chromium-browser/chromedriver')\n",
        "!npm init -y\n",
        "!npm install --save async got puppeteer slugify tough-cookie util yargs"
      ],
      "execution_count": null,
      "outputs": []
    },
    {
      "cell_type": "code",
      "metadata": {
        "id": "EdWvK_7FhnFr",
        "cellView": "form"
      },
      "source": [
        "# MUST starts with /drive NOT /content\n",
        "output_dir = ''  #@param {type: \"string\"}\n",
        "username = ''  #@param {type: \"string\"}\n",
        "password = ''  #@param {type: \"string\"}\n",
        "!node index.js --dir=$output_dir --username=$username --password=$password"
      ],
      "execution_count": null,
      "outputs": []
    }
  ]
}